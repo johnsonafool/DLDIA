{
 "cells": [
  {
   "cell_type": "code",
   "execution_count": 3,
   "id": "7a70ba09",
   "metadata": {},
   "outputs": [],
   "source": [
    "import numpy as np\n",
    "import cv2 as cv\n",
    "import matplotlib.pyplot as plt\n",
    "\n",
    "import tensorflow as tf"
   ]
  },
  {
   "cell_type": "code",
   "execution_count": 4,
   "id": "f0f88034",
   "metadata": {},
   "outputs": [
    {
     "name": "stdout",
     "output_type": "stream",
     "text": [
      "Name: 曾紘遠 TSENG HUNG YUAN Student ID: 109830021\n"
     ]
    }
   ],
   "source": [
    "print(\"Name: 曾紘遠 TSENG HUNG YUAN\", \"Student ID: 109830021\" )"
   ]
  },
  {
   "cell_type": "code",
   "execution_count": null,
   "id": "fd7b5cbd",
   "metadata": {},
   "outputs": [],
   "source": []
  }
 ],
 "metadata": {
  "kernelspec": {
   "display_name": "venv",
   "language": "python",
   "name": "venv"
  },
  "language_info": {
   "codemirror_mode": {
    "name": "ipython",
    "version": 3
   },
   "file_extension": ".py",
   "mimetype": "text/x-python",
   "name": "python",
   "nbconvert_exporter": "python",
   "pygments_lexer": "ipython3",
   "version": "3.8.9"
  }
 },
 "nbformat": 4,
 "nbformat_minor": 5
}
